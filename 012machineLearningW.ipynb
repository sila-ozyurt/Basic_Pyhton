{
 "cells": [
  {
   "cell_type": "markdown",
   "metadata": {},
   "source": [
    "##### LOCAL ,ENCLOSING , GLOBAL, BUILT-IN\n",
    "enclosing=içinde bulunduğu bir üst scope "
   ]
  },
  {
   "cell_type": "code",
   "execution_count": 3,
   "metadata": {},
   "outputs": [
    {
     "name": "stdout",
     "output_type": "stream",
     "text": [
      "nur\n"
     ]
    }
   ],
   "source": [
    "name=\"hediye\"\n",
    "#global\n",
    "\n",
    "def callName():\n",
    "    name=\"atil\"\n",
    "    #enclosing\n",
    "    \n",
    "    def callName2():\n",
    "        name=\"nur\"\n",
    "        #local\n",
    "\n",
    "        print(name)\n",
    "    callName2()\n",
    "\n",
    "callName()"
   ]
  },
  {
   "cell_type": "code",
   "execution_count": 3,
   "metadata": {},
   "outputs": [],
   "source": [
    "#eger biz name=\"nur\" satirini commend line yaparsak, enclosing e bakar\n",
    "#eğer orada da yoksa globale bakar,globalde de olmazsa pythonda built-in benim adım diye bisi var mı ona bakar"
   ]
  },
  {
   "cell_type": "code",
   "execution_count": 4,
   "metadata": {},
   "outputs": [],
   "source": [
    "y=10\n",
    "\n",
    "def func1():\n",
    "    global y\n",
    "    y=5\n",
    "    print(y)\n",
    "    "
   ]
  },
  {
   "cell_type": "code",
   "execution_count": 6,
   "metadata": {},
   "outputs": [
    {
     "name": "stdout",
     "output_type": "stream",
     "text": [
      "5\n",
      "5\n"
     ]
    }
   ],
   "source": [
    "func1()\n",
    "print(y)"
   ]
  },
  {
   "cell_type": "code",
   "execution_count": 10,
   "metadata": {},
   "outputs": [
    {
     "data": {
      "text/plain": [
       "5"
      ]
     },
     "execution_count": 10,
     "metadata": {},
     "output_type": "execute_result"
    }
   ],
   "source": [
    "y\n",
    "#global y nin degerini y=func1() şeklinde bir değer döndürüp de değiştire de biliriz."
   ]
  },
  {
   "cell_type": "code",
   "execution_count": null,
   "metadata": {},
   "outputs": [],
   "source": []
  }
 ],
 "metadata": {
  "kernelspec": {
   "display_name": "Python 3",
   "language": "python",
   "name": "python3"
  },
  "language_info": {
   "codemirror_mode": {
    "name": "ipython",
    "version": 3
   },
   "file_extension": ".py",
   "mimetype": "text/x-python",
   "name": "python",
   "nbconvert_exporter": "python",
   "pygments_lexer": "ipython3",
   "version": "3.12.0"
  }
 },
 "nbformat": 4,
 "nbformat_minor": 2
}
