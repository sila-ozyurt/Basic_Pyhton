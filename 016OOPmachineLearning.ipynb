{
 "cells": [
  {
   "cell_type": "markdown",
   "metadata": {},
   "source": [
    "##### INHERITANCE"
   ]
  },
  {
   "cell_type": "code",
   "execution_count": 2,
   "metadata": {},
   "outputs": [],
   "source": [
    "class Animal():\n",
    "\n",
    "    def __init__(self):\n",
    "        print(\"animal class is called\")\n",
    "    \n",
    "    def method1(self):\n",
    "        print(\"animal class method1 is called\")\n",
    "    \n",
    "    def method2(self):\n",
    "        print(\"animal class method2 is called\")\n"
   ]
  },
  {
   "cell_type": "code",
   "execution_count": 3,
   "metadata": {},
   "outputs": [
    {
     "name": "stdout",
     "output_type": "stream",
     "text": [
      "animal class is called\n"
     ]
    }
   ],
   "source": [
    "animal1=Animal()"
   ]
  },
  {
   "cell_type": "code",
   "execution_count": 4,
   "metadata": {},
   "outputs": [
    {
     "name": "stdout",
     "output_type": "stream",
     "text": [
      "animal class method1 is called\n"
     ]
    }
   ],
   "source": [
    "animal1.method1()"
   ]
  },
  {
   "cell_type": "code",
   "execution_count": 5,
   "metadata": {},
   "outputs": [
    {
     "name": "stdout",
     "output_type": "stream",
     "text": [
      "animal class method2 is called\n"
     ]
    }
   ],
   "source": [
    "animal1.method2()"
   ]
  },
  {
   "cell_type": "code",
   "execution_count": 15,
   "metadata": {},
   "outputs": [],
   "source": [
    "class Cat(Animal):\n",
    "\n",
    "    def __init__(self):\n",
    "         Animal.__init__(self)\n",
    "         print(\"cat class init is called\")\n",
    "    \n",
    "    def miuw(self):\n",
    "         print(\"miaw\")\n",
    "     \n",
    "     #override\n",
    "    def method1(self):\n",
    "         print(\"cat class method1 is called\")"
   ]
  },
  {
   "cell_type": "code",
   "execution_count": 16,
   "metadata": {},
   "outputs": [
    {
     "name": "stdout",
     "output_type": "stream",
     "text": [
      "animal class is called\n",
      "cat class init is called\n"
     ]
    }
   ],
   "source": [
    "cat1=Cat()"
   ]
  },
  {
   "cell_type": "code",
   "execution_count": 17,
   "metadata": {},
   "outputs": [
    {
     "name": "stdout",
     "output_type": "stream",
     "text": [
      "cat class method1 is called\n",
      "animal class method2 is called\n"
     ]
    }
   ],
   "source": [
    "cat1.method1()\n",
    "cat1.method2()"
   ]
  }
 ],
 "metadata": {
  "kernelspec": {
   "display_name": "Python 3",
   "language": "python",
   "name": "python3"
  },
  "language_info": {
   "codemirror_mode": {
    "name": "ipython",
    "version": 3
   },
   "file_extension": ".py",
   "mimetype": "text/x-python",
   "name": "python",
   "nbconvert_exporter": "python",
   "pygments_lexer": "ipython3",
   "version": "3.12.0"
  }
 },
 "nbformat": 4,
 "nbformat_minor": 2
}
